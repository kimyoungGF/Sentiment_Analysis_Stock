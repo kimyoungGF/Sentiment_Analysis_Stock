{
 "cells": [
  {
   "cell_type": "code",
   "execution_count": 1,
   "id": "7b382f2d",
   "metadata": {},
   "outputs": [],
   "source": [
    "import datetime as dt\n",
    "import pandas as pd\n",
    "import requests\n",
    "import datetime\n",
    "from dateutil.parser import parse"
   ]
  },
  {
   "cell_type": "code",
   "execution_count": 2,
   "id": "87aef8d9",
   "metadata": {},
   "outputs": [],
   "source": [
    "Kospi_50 = pd.DataFrame({'종목코드':['005930', '000660', '207940', '051910', '006400'\n",
    "                                    , '005380', '000270', '207940', '005490', '035420'\n",
    "                                    , '003670', '035720', '068270', '012330', '066570'\n",
    "                                    , '028260', '105560', '055550', '096770', '032830'\n",
    "                                    , '034730', '086790', '015760', '034020', '033780'\n",
    "                                    , '000810', '009150', '017670', '010130', '018260'\n",
    "                                    , '011200', '138040', '316140', '010950', '051900'\n",
    "                                    , '009830', '003490', '024110', '030200', '011170'\n",
    "                                    , '011070', '009540', '036570', '086280', '047050'\n",
    "                                    , '090430', '241560', '034220','010140', '028050'],\n",
    "                             '종목명':['삼성전자', 'SK하이닉스', '삼성바이오로직스', 'LG화학', '삼성SDI'\n",
    "                                   , '현대차', '기아', '삼성바이오로직스', 'POSCO홀딩스', 'NAVER'\n",
    "                                   , '포스코퓨처엠', '카카오', '셀트리온', '현대모비스', 'LG전자'\n",
    "                                   , '삼성물산', 'KB금융', '신한지주', 'SK이노베이션', '삼성생명'\n",
    "                                   , 'SK', '하나금융지주', '한국전력', '두산에너빌리티', 'KT&G'\n",
    "                                   , '삼성화재', '삼성전기', 'SK텔레콤', '고려아연', '삼성에스디에스'\n",
    "                                   , 'HMM', '메리츠금융지주', '우리금융지주', 'S-Oil', 'LG생활건강'\n",
    "                                   , '한화솔루션', '대한항공', '기업은행', 'KT', '롯데케미칼'\n",
    "                                   , 'LG이노텍', 'HD한국조선해양', '엔씨소프트', '현대글로비스', '포스코인터내셔널'\n",
    "                                   , '아모레퍼시픽', '두산밥캣','LG디스플레이','삼성중공업','삼성엔지니어링']})"
   ]
  },
  {
   "cell_type": "code",
   "execution_count": 3,
   "id": "1f2394cd",
   "metadata": {},
   "outputs": [],
   "source": [
    "def storkbattelCR(stopday,company,companynum):\n",
    "\n",
    "    \n",
    "    stopdate=parse(stopday)\n",
    "    nowdate=datetime.datetime.now()\n",
    "\n",
    "\n",
    "    headers = {'User-Agent':'Mozilla/5.0 (Windows NT 10.0; Win64; x64) AppleWebKit/537.36 (KHTML, like Gecko) Chrome/117.0.0.0 Safari/537.36'}\n",
    "\n",
    "    url = f'https://finance.naver.com/item/board_read.naver?code=066570&nid=261669599&st=&sw=&page=1'\n",
    "    past_url = url\n",
    "    past_past_url = ''\n",
    "    past_check = 0\n",
    "    \n",
    "    print(url)\n",
    "\n",
    "\n",
    "    num = 0\n",
    "    while nowdate>stopdate:\n",
    "        try:\n",
    "            past_past_url = past_url\n",
    "            ss = requests.get(url, headers=headers)\n",
    "            past_url = url\n",
    "            source = ss.text\n",
    "\n",
    "            pos1 = source.find('<th class=\"gray03 p9 tah\" align=\"right\"') + len('<th class=\"gray03 p9 tah\" align=\"right\"')\n",
    "            source = source[pos1:]\n",
    "\n",
    "            pos1 = source.find('\">') + len('\">')\n",
    "            source = source[pos1:]\n",
    "\n",
    "            pos1 = source.find('</th>') - len('</th> ')\n",
    "            date = source[:pos1]\n",
    "\n",
    "            pos1 = source.find('class=\"view_se\"') + len('class=\"view_se\"')\n",
    "            source = source[pos1:]\n",
    "            pos1 = source.find(\"'>\") + len(\"'>\")\n",
    "            source = source[pos1:]\n",
    "\n",
    "            pos2 = source.find('</div>')\n",
    "            content = source[:pos2]\n",
    "            content = content.replace('<br>', ' ')\n",
    "            content=content.replace(\"\\r\",\" \")\n",
    "            content=content.replace(\",\",\" \")\n",
    "\n",
    "            pos1 = source.find('class=\"p11 gray03\">다음')\n",
    "            source = source[pos1:]\n",
    "\n",
    "            pos2 = source.find('<a href=\"') + len('<a href=\"')\n",
    "            source = source[pos2:]\n",
    "\n",
    "            pos3 = source.find('\"')\n",
    "            url = 'https://finance.naver.com/item/' + source[:pos3]\n",
    "\n",
    "            if num % 100 == 0:\n",
    "                f = open(f'E:\\stock/주토방/{company}{num}.csv', 'w')  \n",
    "            try:\n",
    "                f.write(date+','+content)\n",
    "            except UnicodeEncodeError as e:\n",
    "                num-=1\n",
    "            f.write('\\n')\n",
    "            if num % 100 == 99:\n",
    "                f.close()\n",
    "            if num % 10 == 0:\n",
    "                print(company,num//10,'번째 출력')\n",
    "            if num % 100 ==99:             \n",
    "                nowdate=parse(date)\n",
    "                print()\n",
    "                past_check=0\n",
    "            \n",
    "            num+=1\n",
    "            \n",
    "        except Exception as e:\n",
    "            if past_check == 1:\n",
    "                url = past_past_url\n",
    "                past_check=0\n",
    "            if past_check == 0:\n",
    "                past_check +=1\n",
    "                url = past_url\n",
    "            \n",
    "          "
   ]
  },
  {
   "cell_type": "code",
   "execution_count": null,
   "id": "0512d5cc",
   "metadata": {},
   "outputs": [
    {
     "name": "stdout",
     "output_type": "stream",
     "text": [
      "https://finance.naver.com/item/board_read.naver?code=066570&nid=261669599&st=&sw=&page=1\n"
     ]
    }
   ],
   "source": [
    "for i in [0,1,3,4,11,12,14,18,23,30,34,35,36,40,41,44,45,47,48]:\n",
    "    storkbattelCR('2021.06.30',Kospi_50.iloc[i,1],Kospi_50.iloc[i,0])"
   ]
  },
  {
   "cell_type": "code",
   "execution_count": null,
   "id": "48a0faef",
   "metadata": {},
   "outputs": [],
   "source": []
  },
  {
   "cell_type": "code",
   "execution_count": null,
   "id": "0feebf38",
   "metadata": {},
   "outputs": [],
   "source": []
  },
  {
   "cell_type": "code",
   "execution_count": null,
   "id": "d6bef3d3",
   "metadata": {},
   "outputs": [],
   "source": []
  },
  {
   "cell_type": "code",
   "execution_count": null,
   "id": "b2d28e7c",
   "metadata": {},
   "outputs": [],
   "source": [
    "df = pd.read_csv('./SK하이닉스0.csv', encoding='euc-kr',names=['날짜','내용'])"
   ]
  },
  {
   "cell_type": "code",
   "execution_count": null,
   "id": "0cc5d23f",
   "metadata": {},
   "outputs": [],
   "source": []
  },
  {
   "cell_type": "code",
   "execution_count": null,
   "id": "29bd91cb",
   "metadata": {},
   "outputs": [],
   "source": []
  },
  {
   "cell_type": "code",
   "execution_count": null,
   "id": "354cf9a3",
   "metadata": {},
   "outputs": [],
   "source": []
  }
 ],
 "metadata": {
  "kernelspec": {
   "display_name": "Python 3 (ipykernel)",
   "language": "python",
   "name": "python3"
  },
  "language_info": {
   "codemirror_mode": {
    "name": "ipython",
    "version": 3
   },
   "file_extension": ".py",
   "mimetype": "text/x-python",
   "name": "python",
   "nbconvert_exporter": "python",
   "pygments_lexer": "ipython3",
   "version": "3.9.0"
  }
 },
 "nbformat": 4,
 "nbformat_minor": 5
}
